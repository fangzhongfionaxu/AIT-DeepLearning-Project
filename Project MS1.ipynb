{
 "cells": [
  {
   "cell_type": "markdown",
   "id": "73c27190",
   "metadata": {},
   "source": [
    "# Data Exploration and Visualization [Flight Prices]\n",
    "\n",
    "---"
   ]
  },
  {
   "cell_type": "markdown",
   "id": "69c8d1c0",
   "metadata": {},
   "source": [
    "## Install Important Libraries"
   ]
  },
  {
   "cell_type": "code",
   "execution_count": 1,
   "id": "19e8bae9",
   "metadata": {},
   "outputs": [
    {
     "name": "stdout",
     "output_type": "stream",
     "text": [
      "Requirement already satisfied: pandas in /opt/anaconda3/lib/python3.12/site-packages (2.2.2)\n",
      "Requirement already satisfied: numpy>=1.26.0 in /opt/anaconda3/lib/python3.12/site-packages (from pandas) (1.26.4)\n",
      "Requirement already satisfied: python-dateutil>=2.8.2 in /opt/anaconda3/lib/python3.12/site-packages (from pandas) (2.9.0.post0)\n",
      "Requirement already satisfied: pytz>=2020.1 in /opt/anaconda3/lib/python3.12/site-packages (from pandas) (2024.1)\n",
      "Requirement already satisfied: tzdata>=2022.7 in /opt/anaconda3/lib/python3.12/site-packages (from pandas) (2023.3)\n",
      "Requirement already satisfied: six>=1.5 in /opt/anaconda3/lib/python3.12/site-packages (from python-dateutil>=2.8.2->pandas) (1.16.0)\n",
      "Note: you may need to restart the kernel to use updated packages.\n",
      "Requirement already satisfied: matplotlib in /opt/anaconda3/lib/python3.12/site-packages (3.9.2)\n",
      "Requirement already satisfied: contourpy>=1.0.1 in /opt/anaconda3/lib/python3.12/site-packages (from matplotlib) (1.3.0)\n",
      "Requirement already satisfied: cycler>=0.10 in /opt/anaconda3/lib/python3.12/site-packages (from matplotlib) (0.12.1)\n",
      "Requirement already satisfied: fonttools>=4.22.0 in /opt/anaconda3/lib/python3.12/site-packages (from matplotlib) (4.54.1)\n",
      "Requirement already satisfied: kiwisolver>=1.3.1 in /opt/anaconda3/lib/python3.12/site-packages (from matplotlib) (1.4.7)\n",
      "Requirement already satisfied: numpy>=1.23 in /opt/anaconda3/lib/python3.12/site-packages (from matplotlib) (1.26.4)\n",
      "Requirement already satisfied: packaging>=20.0 in /opt/anaconda3/lib/python3.12/site-packages (from matplotlib) (24.1)\n",
      "Requirement already satisfied: pillow>=8 in /opt/anaconda3/lib/python3.12/site-packages (from matplotlib) (11.0.0)\n",
      "Requirement already satisfied: pyparsing>=2.3.1 in /opt/anaconda3/lib/python3.12/site-packages (from matplotlib) (3.2.0)\n",
      "Requirement already satisfied: python-dateutil>=2.7 in /opt/anaconda3/lib/python3.12/site-packages (from matplotlib) (2.9.0.post0)\n",
      "Requirement already satisfied: six>=1.5 in /opt/anaconda3/lib/python3.12/site-packages (from python-dateutil>=2.7->matplotlib) (1.16.0)\n",
      "Note: you may need to restart the kernel to use updated packages.\n",
      "Requirement already satisfied: sqlalchemy in /opt/anaconda3/lib/python3.12/site-packages (2.0.30)\n",
      "Requirement already satisfied: typing-extensions>=4.6.0 in /opt/anaconda3/lib/python3.12/site-packages (from sqlalchemy) (4.11.0)\n",
      "Note: you may need to restart the kernel to use updated packages.\n"
     ]
    }
   ],
   "source": [
    "%pip install pandas\n",
    "%pip install matplotlib\n",
    "%pip install sqlalchemy"
   ]
  },
  {
   "cell_type": "code",
   "execution_count": 2,
   "id": "98f2fbd5-5f17-42dd-a1c5-e1d2568ef618",
   "metadata": {},
   "outputs": [],
   "source": [
    "import pandas as pd\n",
    "import numpy as np"
   ]
  },
  {
   "cell_type": "markdown",
   "id": "a38068c8",
   "metadata": {},
   "source": [
    "## Dataset Columns"
   ]
  },
  {
   "cell_type": "code",
   "execution_count": 3,
   "id": "1b8c3e78",
   "metadata": {},
   "outputs": [
    {
     "name": "stdout",
     "output_type": "stream",
     "text": [
      "Sample Data Info:\n",
      "<class 'pandas.core.frame.DataFrame'>\n",
      "RangeIndex: 5000 entries, 0 to 4999\n",
      "Data columns (total 27 columns):\n",
      " #   Column                             Non-Null Count  Dtype  \n",
      "---  ------                             --------------  -----  \n",
      " 0   legId                              5000 non-null   object \n",
      " 1   searchDate                         5000 non-null   object \n",
      " 2   flightDate                         5000 non-null   object \n",
      " 3   startingAirport                    5000 non-null   object \n",
      " 4   destinationAirport                 5000 non-null   object \n",
      " 5   fareBasisCode                      5000 non-null   object \n",
      " 6   travelDuration                     5000 non-null   object \n",
      " 7   elapsedDays                        5000 non-null   int64  \n",
      " 8   isBasicEconomy                     5000 non-null   bool   \n",
      " 9   isRefundable                       5000 non-null   bool   \n",
      " 10  isNonStop                          5000 non-null   bool   \n",
      " 11  baseFare                           5000 non-null   float64\n",
      " 12  totalFare                          5000 non-null   float64\n",
      " 13  seatsRemaining                     5000 non-null   int64  \n",
      " 14  totalTravelDistance                4810 non-null   float64\n",
      " 15  segmentsDepartureTimeEpochSeconds  5000 non-null   object \n",
      " 16  segmentsDepartureTimeRaw           5000 non-null   object \n",
      " 17  segmentsArrivalTimeEpochSeconds    5000 non-null   object \n",
      " 18  segmentsArrivalTimeRaw             5000 non-null   object \n",
      " 19  segmentsArrivalAirportCode         5000 non-null   object \n",
      " 20  segmentsDepartureAirportCode       5000 non-null   object \n",
      " 21  segmentsAirlineName                5000 non-null   object \n",
      " 22  segmentsAirlineCode                5000 non-null   object \n",
      " 23  segmentsEquipmentDescription       4917 non-null   object \n",
      " 24  segmentsDurationInSeconds          5000 non-null   object \n",
      " 25  segmentsDistance                   4976 non-null   object \n",
      " 26  segmentsCabinCode                  5000 non-null   object \n",
      "dtypes: bool(3), float64(3), int64(2), object(19)\n",
      "memory usage: 952.3+ KB\n",
      "None\n"
     ]
    }
   ],
   "source": [
    "# Load a small sample to inspect structure\n",
    "df_sample = pd.read_csv('itineraries.csv', nrows=5000)  # Load first 5,000 rows for quick overview\n",
    "\n",
    "# Display basic info\n",
    "print(\"Sample Data Info:\")\n",
    "print(df_sample.info())"
   ]
  },
  {
   "cell_type": "markdown",
   "id": "54658046",
   "metadata": {},
   "source": [
    "## Dataset Statistics"
   ]
  },
  {
   "cell_type": "code",
   "execution_count": 4,
   "id": "9241feac",
   "metadata": {},
   "outputs": [
    {
     "name": "stdout",
     "output_type": "stream",
     "text": [
      "       elapsedDays     baseFare    totalFare  seatsRemaining  \\\n",
      "count  5000.000000  5000.000000  5000.000000     5000.000000   \n",
      "mean      0.120000   371.655530   423.317342        4.412800   \n",
      "std       0.324994   249.857463   268.402527        2.920428   \n",
      "min       0.000000    78.140000    97.100000        0.000000   \n",
      "25%       0.000000   233.000000   278.600000        2.000000   \n",
      "50%       0.000000   322.790000   368.600000        4.000000   \n",
      "75%       0.000000   432.560000   491.590000        7.000000   \n",
      "max       1.000000  2456.740000  2655.600000       10.000000   \n",
      "\n",
      "       totalTravelDistance  \n",
      "count          4810.000000  \n",
      "mean           1545.471726  \n",
      "std             756.021730  \n",
      "min              97.000000  \n",
      "25%             932.000000  \n",
      "50%            1435.000000  \n",
      "75%            2166.000000  \n",
      "max            3562.000000  \n"
     ]
    }
   ],
   "source": [
    "print(df_sample.describe())"
   ]
  },
  {
   "cell_type": "markdown",
   "id": "51de1826",
   "metadata": {},
   "source": [
    "## Dataset Samples"
   ]
  },
  {
   "cell_type": "code",
   "execution_count": 5,
   "id": "30f1586b",
   "metadata": {},
   "outputs": [
    {
     "name": "stdout",
     "output_type": "stream",
     "text": [
      "                              legId  searchDate  flightDate startingAirport  \\\n",
      "0  9ca0e81111c683bec1012473feefd28f  2022-04-16  2022-04-17             ATL   \n",
      "1  98685953630e772a098941b71906592b  2022-04-16  2022-04-17             ATL   \n",
      "2  98d90cbc32bfbb05c2fc32897c7c1087  2022-04-16  2022-04-17             ATL   \n",
      "3  969a269d38eae583f455486fa90877b4  2022-04-16  2022-04-17             ATL   \n",
      "4  980370cf27c89b40d2833a1d5afc9751  2022-04-16  2022-04-17             ATL   \n",
      "\n",
      "  destinationAirport fareBasisCode travelDuration  elapsedDays  \\\n",
      "0                BOS      LA0NX0MC        PT2H29M            0   \n",
      "1                BOS      LA0NX0MC        PT2H30M            0   \n",
      "2                BOS      LA0NX0MC        PT2H30M            0   \n",
      "3                BOS      LA0NX0MC        PT2H32M            0   \n",
      "4                BOS      LA0NX0MC        PT2H34M            0   \n",
      "\n",
      "   isBasicEconomy  isRefundable  ...  segmentsArrivalTimeEpochSeconds  \\\n",
      "0           False         False  ...                       1650223560   \n",
      "1           False         False  ...                       1650200400   \n",
      "2           False         False  ...                       1650218700   \n",
      "3           False         False  ...                       1650227460   \n",
      "4           False         False  ...                       1650213180   \n",
      "\n",
      "          segmentsArrivalTimeRaw  segmentsArrivalAirportCode  \\\n",
      "0  2022-04-17T15:26:00.000-04:00                         BOS   \n",
      "1  2022-04-17T09:00:00.000-04:00                         BOS   \n",
      "2  2022-04-17T14:05:00.000-04:00                         BOS   \n",
      "3  2022-04-17T16:31:00.000-04:00                         BOS   \n",
      "4  2022-04-17T12:33:00.000-04:00                         BOS   \n",
      "\n",
      "   segmentsDepartureAirportCode  segmentsAirlineName segmentsAirlineCode  \\\n",
      "0                           ATL                Delta                  DL   \n",
      "1                           ATL                Delta                  DL   \n",
      "2                           ATL                Delta                  DL   \n",
      "3                           ATL                Delta                  DL   \n",
      "4                           ATL                Delta                  DL   \n",
      "\n",
      "  segmentsEquipmentDescription segmentsDurationInSeconds segmentsDistance  \\\n",
      "0                  Airbus A321                      8940              947   \n",
      "1                  Airbus A321                      9000              947   \n",
      "2               Boeing 757-200                      9000              947   \n",
      "3                  Airbus A321                      9120              947   \n",
      "4                  Airbus A321                      9240              947   \n",
      "\n",
      "  segmentsCabinCode  \n",
      "0             coach  \n",
      "1             coach  \n",
      "2             coach  \n",
      "3             coach  \n",
      "4             coach  \n",
      "\n",
      "[5 rows x 27 columns]\n"
     ]
    }
   ],
   "source": [
    "print(df_sample.head())"
   ]
  },
  {
   "cell_type": "markdown",
   "id": "b73008b8",
   "metadata": {},
   "source": [
    "## Probability Distributions & Value Counts"
   ]
  },
  {
   "cell_type": "code",
   "execution_count": 6,
   "id": "946bbfb5",
   "metadata": {},
   "outputs": [],
   "source": [
    "# Computational imports\n",
    "import numpy as np   \n",
    "import pandas as pd \n",
    "\n",
    "# Plotting imports\n",
    "import matplotlib.pyplot as plt\n",
    "import seaborn as sns"
   ]
  },
  {
   "cell_type": "code",
   "execution_count": 7,
   "id": "5b3a18b2",
   "metadata": {},
   "outputs": [
    {
     "data": {
      "image/png": "[encoded data removed]",
      "text/plain": [
       "<Figure size 1000x500 with 1 Axes>"
      ]
     },
     "metadata": {},
     "output_type": "display_data"
    }
   ],
   "source": [
    "csv_file = \"itineraries.csv\"\n",
    "col = \"startingAirport\"\n",
    "df = pd.read_csv(csv_file, usecols=[col])\n",
    "\n",
    "plt.figure(figsize=(10, 5))\n",
    "sns.countplot(y=df[col], order=df[col].value_counts().index)\n",
    "plt.title(f'Value Counts of {col}')\n",
    "plt.show()"
   ]
  },
  {
   "cell_type": "code",
   "execution_count": 9,
   "id": "31cb453f",
   "metadata": {},
   "outputs": [
    {
     "data": {
      "image/png": "[encoded data removed]",
      "text/plain": [
       "<Figure size 1000x500 with 1 Axes>"
      ]
     },
     "metadata": {},
     "output_type": "display_data"
    }
   ],
   "source": [
    "csv_file = \"itineraries.csv\"\n",
    "col = \"destinationAirport\"\n",
    "df = pd.read_csv(csv_file, usecols=[col])\n",
    "\n",
    "plt.figure(figsize=(10, 5))\n",
    "sns.countplot(y=df[col], order=df[col].value_counts().index)\n",
    "plt.title(f'Value Counts of {col}')\n",
    "plt.show()"
   ]
  },
  {
   "cell_type": "code",
   "execution_count": null,
   "id": "2dd85a13",
   "metadata": {},
   "outputs": [],
   "source": [
    "csv_file = \"itineraries.csv\"\n",
    "col = \"isNonStop\"\n",
    "df = pd.read_csv(csv_file, usecols=[col])\n",
    "\n",
    "plt.figure(figsize=(10, 5))\n",
    "sns.countplot(y=df[col], order=df[col].value_counts().index)\n",
    "plt.title(f'Value Counts of {col}')\n",
    "plt.show()"
   ]
  },
  {
   "cell_type": "code",
   "execution_count": null,
   "id": "d3672f07",
   "metadata": {},
   "outputs": [],
   "source": [
    "csv_file = \"itineraries.csv\"\n",
    "col = \"seatsRemaining\"\n",
    "df = pd.read_csv(csv_file, usecols=[col])\n",
    "\n",
    "plt.figure(figsize=(10, 5))\n",
    "sns.countplot(y=df[col], order=df[col].value_counts().index)\n",
    "plt.title(f'Value Counts of {col}')\n",
    "plt.show()"
   ]
  },
  {
   "cell_type": "code",
   "execution_count": null,
   "id": "49a8e656",
   "metadata": {},
   "outputs": [],
   "source": [
    "csv_file = \"itineraries.csv\"\n",
    "col = \"isBasicEconomy\"\n",
    "df = pd.read_csv(csv_file, usecols=[col])\n",
    "\n",
    "plt.figure(figsize=(10, 5))\n",
    "sns.countplot(y=df[col], order=df[col].value_counts().index)\n",
    "plt.title(f'Value Counts of {col}')\n",
    "plt.show()"
   ]
  },
  {
   "cell_type": "code",
   "execution_count": null,
   "id": "6c78f827",
   "metadata": {},
   "outputs": [],
   "source": [
    "csv_file = \"itineraries.csv\"\n",
    "col = \"totalFare\"\n",
    "df = pd.read_csv(csv_file, usecols=[col])\n",
    "\n",
    "plt.figure(figsize=(8, 5))\n",
    "sns.histplot(df[col], bins=30, kde=True)\n",
    "plt.title(f'Distribution of {col}')\n",
    "plt.show()"
   ]
  },
  {
   "cell_type": "code",
   "execution_count": null,
   "id": "4d663d22",
   "metadata": {},
   "outputs": [],
   "source": [
    "csv_file = \"itineraries.csv\"\n",
    "col = \"totalTravelDistance\"\n",
    "df = pd.read_csv(csv_file, usecols=[col])\n",
    "\n",
    "plt.figure(figsize=(8, 5))\n",
    "sns.histplot(df[col], bins=30, kde=True)\n",
    "plt.title(f'Distribution of {col}')\n",
    "plt.show()"
   ]
  },
  {
   "cell_type": "code",
   "execution_count": 3,
   "id": "70eca02e-91c1-4060-aec6-d7f1db4e8a94",
   "metadata": {},
   "outputs": [
    {
     "name": "stdout",
     "output_type": "stream",
     "text": [
      "Requirement already satisfied: pyspark in /opt/anaconda3/lib/python3.12/site-packages (3.5.5)\n",
      "Requirement already satisfied: py4j==0.10.9.7 in /opt/anaconda3/lib/python3.12/site-packages (from pyspark) (0.10.9.7)\n",
      "Note: you may need to restart the kernel to use updated packages.\n"
     ]
    }
   ],
   "source": [
    "pip install pyspark"
   ]
  },
  {
   "cell_type": "code",
   "execution_count": 4,
   "id": "9e0d247b-a7a3-41ae-be63-12da585f25cd",
   "metadata": {},
   "outputs": [],
   "source": [
    "from pyspark.sql import SparkSession\n",
    "from pyspark.sql.functions import col"
   ]
  },
  {
   "cell_type": "code",
   "execution_count": 7,
   "id": "5f2e3080-c459-4859-91f1-35d025a5d34a",
   "metadata": {},
   "outputs": [],
   "source": [
    "# german_df = pd.read_csv('./Data/GermanAirFares.csv')\n",
    "# main_df = pd.read_csv('./Data/itineraries.csv')\n",
    "# main_df.head()"
   ]
  },
  {
   "cell_type": "code",
   "execution_count": 9,
   "id": "f43b005d-fafc-4833-b713-0ff03aee8e8d",
   "metadata": {},
   "outputs": [
    {
     "name": "stdout",
     "output_type": "stream",
     "text": [
      "Name: pyspark\n",
      "Version: 3.5.5\n",
      "Summary: Apache Spark Python API\n",
      "Home-page: https://github.com/apache/spark/tree/master/python\n",
      "Author: Spark Developers\n",
      "Author-email: dev@spark.apache.org\n",
      "License: http://www.apache.org/licenses/LICENSE-2.0\n",
      "Location: /opt/anaconda3/lib/python3.12/site-packages\n",
      "Requires: py4j\n",
      "Required-by: \n",
      "Note: you may need to restart the kernel to use updated packages.\n"
     ]
    }
   ],
   "source": [
    "pip show pyspark"
   ]
  },
  {
   "cell_type": "code",
   "execution_count": 11,
   "id": "7bd6fe55-b574-4d43-9284-d3e237bb5952",
   "metadata": {},
   "outputs": [
    {
     "name": "stderr",
     "output_type": "stream",
     "text": [
      "25/03/23 20:42:50 WARN Utils: Your hostname, Fiona-X-MacBook-Pro.local resolves to a loopback address: 127.0.0.1; using 192.168.83.192 instead (on interface en0)\n",
      "25/03/23 20:42:50 WARN Utils: Set SPARK_LOCAL_IP if you need to bind to another address\n",
      "Setting default log level to \"WARN\".\n",
      "To adjust logging level use sc.setLogLevel(newLevel). For SparkR, use setLogLevel(newLevel).\n",
      "25/03/23 20:42:50 WARN NativeCodeLoader: Unable to load native-hadoop library for your platform... using builtin-java classes where applicable\n",
      "                                                                                \r"
     ]
    }
   ],
   "source": [
    "spark = SparkSession.builder.appName(\"FlightPricePrediction\").getOrCreate()\n",
    "\n",
    "# Read large CSV (distributed processing)\n",
    "df = spark.read.csv(\"./Data/itineraries.csv\", header=True, inferSchema=True)\n"
   ]
  },
  {
   "cell_type": "code",
   "execution_count": 13,
   "id": "65b71ba4-4772-46ec-9fb6-0ce01617cf25",
   "metadata": {},
   "outputs": [],
   "source": [
    "flight_df = df"
   ]
  },
  {
   "cell_type": "code",
   "execution_count": 15,
   "id": "4491fc17-1e89-4712-96f1-7dfde0f3133e",
   "metadata": {},
   "outputs": [
    {
     "name": "stdout",
     "output_type": "stream",
     "text": [
      "+----------+----------+---------------+------------------+\n",
      "|searchDate|flightDate|startingAirport|destinationAirport|\n",
      "+----------+----------+---------------+------------------+\n",
      "|2022-04-16|2022-04-17|ATL            |BOS               |\n",
      "|2022-04-16|2022-04-17|ATL            |BOS               |\n",
      "|2022-04-16|2022-04-17|ATL            |BOS               |\n",
      "|2022-04-16|2022-04-17|ATL            |BOS               |\n",
      "|2022-04-16|2022-04-17|ATL            |BOS               |\n",
      "|2022-04-16|2022-04-17|ATL            |BOS               |\n",
      "|2022-04-16|2022-04-17|ATL            |BOS               |\n",
      "|2022-04-16|2022-04-17|ATL            |BOS               |\n",
      "|2022-04-16|2022-04-17|ATL            |BOS               |\n",
      "|2022-04-16|2022-04-17|ATL            |BOS               |\n",
      "+----------+----------+---------------+------------------+\n",
      "only showing top 10 rows\n",
      "\n"
     ]
    }
   ],
   "source": [
    "flight_df.select(\"searchDate\",\"flightDate\", \"startingAirport\", \"destinationAirport\").show(n=10, truncate=False)"
   ]
  },
  {
   "cell_type": "markdown",
   "id": "ef1e2683-dab8-4768-8ce8-d838e572e6ec",
   "metadata": {},
   "source": [
    "Taking a small sample and save it as parquet, this will be used to explore the data in pandas."
   ]
  },
  {
   "cell_type": "code",
   "execution_count": 19,
   "id": "e3f37750-e7ea-4cca-8f24-af8e1b7927aa",
   "metadata": {},
   "outputs": [
    {
     "name": "stderr",
     "output_type": "stream",
     "text": [
      "                                                                                \r"
     ]
    }
   ],
   "source": [
    "flight_df.limit(500000).write.parquet(\"sample_flights.parquet\")"
   ]
  },
  {
   "cell_type": "code",
   "execution_count": 23,
   "id": "6a150807-047e-42f2-9355-43e5c077555e",
   "metadata": {},
   "outputs": [],
   "source": [
    "flight_df_pd = pd.read_parquet(\"sample_flights.parquet\")"
   ]
  },
  {
   "cell_type": "code",
   "execution_count": 34,
   "id": "3fe4a013-d317-4351-b21e-f5115b80b9a6",
   "metadata": {},
   "outputs": [
    {
     "data": {
      "text/html": [
       "<div>\n",
       "<style scoped>\n",
       "    .dataframe tbody tr th:only-of-type {\n",
       "        vertical-align: middle;\n",
       "    }\n",
       "\n",
       "    .dataframe tbody tr th {\n",
       "        vertical-align: top;\n",
       "    }\n",
       "\n",
       "    .dataframe thead th {\n",
       "        text-align: right;\n",
       "    }\n",
       "</style>\n",
       "<table border=\"1\" class=\"dataframe\">\n",
       "  <thead>\n",
       "    <tr style=\"text-align: right;\">\n",
       "      <th></th>\n",
       "      <th>legId</th>\n",
       "      <th>searchDate</th>\n",
       "      <th>flightDate</th>\n",
       "      <th>startingAirport</th>\n",
       "      <th>destinationAirport</th>\n",
       "      <th>fareBasisCode</th>\n",
       "      <th>travelDuration</th>\n",
       "      <th>elapsedDays</th>\n",
       "      <th>isBasicEconomy</th>\n",
       "      <th>isRefundable</th>\n",
       "      <th>...</th>\n",
       "      <th>segmentsArrivalTimeEpochSeconds</th>\n",
       "      <th>segmentsArrivalTimeRaw</th>\n",
       "      <th>segmentsArrivalAirportCode</th>\n",
       "      <th>segmentsDepartureAirportCode</th>\n",
       "      <th>segmentsAirlineName</th>\n",
       "      <th>segmentsAirlineCode</th>\n",
       "      <th>segmentsEquipmentDescription</th>\n",
       "      <th>segmentsDurationInSeconds</th>\n",
       "      <th>segmentsDistance</th>\n",
       "      <th>segmentsCabinCode</th>\n",
       "    </tr>\n",
       "  </thead>\n",
       "  <tbody>\n",
       "    <tr>\n",
       "      <th>0</th>\n",
       "      <td>9ca0e81111c683bec1012473feefd28f</td>\n",
       "      <td>2022-04-16</td>\n",
       "      <td>2022-04-17</td>\n",
       "      <td>ATL</td>\n",
       "      <td>BOS</td>\n",
       "      <td>LA0NX0MC</td>\n",
       "      <td>PT2H29M</td>\n",
       "      <td>0</td>\n",
       "      <td>False</td>\n",
       "      <td>False</td>\n",
       "      <td>...</td>\n",
       "      <td>1650223560</td>\n",
       "      <td>2022-04-17T15:26:00.000-04:00</td>\n",
       "      <td>BOS</td>\n",
       "      <td>ATL</td>\n",
       "      <td>Delta</td>\n",
       "      <td>DL</td>\n",
       "      <td>Airbus A321</td>\n",
       "      <td>8940</td>\n",
       "      <td>947</td>\n",
       "      <td>coach</td>\n",
       "    </tr>\n",
       "    <tr>\n",
       "      <th>1</th>\n",
       "      <td>98685953630e772a098941b71906592b</td>\n",
       "      <td>2022-04-16</td>\n",
       "      <td>2022-04-17</td>\n",
       "      <td>ATL</td>\n",
       "      <td>BOS</td>\n",
       "      <td>LA0NX0MC</td>\n",
       "      <td>PT2H30M</td>\n",
       "      <td>0</td>\n",
       "      <td>False</td>\n",
       "      <td>False</td>\n",
       "      <td>...</td>\n",
       "      <td>1650200400</td>\n",
       "      <td>2022-04-17T09:00:00.000-04:00</td>\n",
       "      <td>BOS</td>\n",
       "      <td>ATL</td>\n",
       "      <td>Delta</td>\n",
       "      <td>DL</td>\n",
       "      <td>Airbus A321</td>\n",
       "      <td>9000</td>\n",
       "      <td>947</td>\n",
       "      <td>coach</td>\n",
       "    </tr>\n",
       "    <tr>\n",
       "      <th>2</th>\n",
       "      <td>98d90cbc32bfbb05c2fc32897c7c1087</td>\n",
       "      <td>2022-04-16</td>\n",
       "      <td>2022-04-17</td>\n",
       "      <td>ATL</td>\n",
       "      <td>BOS</td>\n",
       "      <td>LA0NX0MC</td>\n",
       "      <td>PT2H30M</td>\n",
       "      <td>0</td>\n",
       "      <td>False</td>\n",
       "      <td>False</td>\n",
       "      <td>...</td>\n",
       "      <td>1650218700</td>\n",
       "      <td>2022-04-17T14:05:00.000-04:00</td>\n",
       "      <td>BOS</td>\n",
       "      <td>ATL</td>\n",
       "      <td>Delta</td>\n",
       "      <td>DL</td>\n",
       "      <td>Boeing 757-200</td>\n",
       "      <td>9000</td>\n",
       "      <td>947</td>\n",
       "      <td>coach</td>\n",
       "    </tr>\n",
       "    <tr>\n",
       "      <th>3</th>\n",
       "      <td>969a269d38eae583f455486fa90877b4</td>\n",
       "      <td>2022-04-16</td>\n",
       "      <td>2022-04-17</td>\n",
       "      <td>ATL</td>\n",
       "      <td>BOS</td>\n",
       "      <td>LA0NX0MC</td>\n",
       "      <td>PT2H32M</td>\n",
       "      <td>0</td>\n",
       "      <td>False</td>\n",
       "      <td>False</td>\n",
       "      <td>...</td>\n",
       "      <td>1650227460</td>\n",
       "      <td>2022-04-17T16:31:00.000-04:00</td>\n",
       "      <td>BOS</td>\n",
       "      <td>ATL</td>\n",
       "      <td>Delta</td>\n",
       "      <td>DL</td>\n",
       "      <td>Airbus A321</td>\n",
       "      <td>9120</td>\n",
       "      <td>947</td>\n",
       "      <td>coach</td>\n",
       "    </tr>\n",
       "    <tr>\n",
       "      <th>4</th>\n",
       "      <td>980370cf27c89b40d2833a1d5afc9751</td>\n",
       "      <td>2022-04-16</td>\n",
       "      <td>2022-04-17</td>\n",
       "      <td>ATL</td>\n",
       "      <td>BOS</td>\n",
       "      <td>LA0NX0MC</td>\n",
       "      <td>PT2H34M</td>\n",
       "      <td>0</td>\n",
       "      <td>False</td>\n",
       "      <td>False</td>\n",
       "      <td>...</td>\n",
       "      <td>1650213180</td>\n",
       "      <td>2022-04-17T12:33:00.000-04:00</td>\n",
       "      <td>BOS</td>\n",
       "      <td>ATL</td>\n",
       "      <td>Delta</td>\n",
       "      <td>DL</td>\n",
       "      <td>Airbus A321</td>\n",
       "      <td>9240</td>\n",
       "      <td>947</td>\n",
       "      <td>coach</td>\n",
       "    </tr>\n",
       "  </tbody>\n",
       "</table>\n",
       "<p>5 rows × 27 columns</p>\n",
       "</div>"
      ],
      "text/plain": [
       "                              legId  searchDate  flightDate startingAirport  \\\n",
       "0  9ca0e81111c683bec1012473feefd28f  2022-04-16  2022-04-17             ATL   \n",
       "1  98685953630e772a098941b71906592b  2022-04-16  2022-04-17             ATL   \n",
       "2  98d90cbc32bfbb05c2fc32897c7c1087  2022-04-16  2022-04-17             ATL   \n",
       "3  969a269d38eae583f455486fa90877b4  2022-04-16  2022-04-17             ATL   \n",
       "4  980370cf27c89b40d2833a1d5afc9751  2022-04-16  2022-04-17             ATL   \n",
       "\n",
       "  destinationAirport fareBasisCode travelDuration  elapsedDays  \\\n",
       "0                BOS      LA0NX0MC        PT2H29M            0   \n",
       "1                BOS      LA0NX0MC        PT2H30M            0   \n",
       "2                BOS      LA0NX0MC        PT2H30M            0   \n",
       "3                BOS      LA0NX0MC        PT2H32M            0   \n",
       "4                BOS      LA0NX0MC        PT2H34M            0   \n",
       "\n",
       "   isBasicEconomy  isRefundable  ...  segmentsArrivalTimeEpochSeconds  \\\n",
       "0           False         False  ...                       1650223560   \n",
       "1           False         False  ...                       1650200400   \n",
       "2           False         False  ...                       1650218700   \n",
       "3           False         False  ...                       1650227460   \n",
       "4           False         False  ...                       1650213180   \n",
       "\n",
       "          segmentsArrivalTimeRaw  segmentsArrivalAirportCode  \\\n",
       "0  2022-04-17T15:26:00.000-04:00                         BOS   \n",
       "1  2022-04-17T09:00:00.000-04:00                         BOS   \n",
       "2  2022-04-17T14:05:00.000-04:00                         BOS   \n",
       "3  2022-04-17T16:31:00.000-04:00                         BOS   \n",
       "4  2022-04-17T12:33:00.000-04:00                         BOS   \n",
       "\n",
       "   segmentsDepartureAirportCode  segmentsAirlineName segmentsAirlineCode  \\\n",
       "0                           ATL                Delta                  DL   \n",
       "1                           ATL                Delta                  DL   \n",
       "2                           ATL                Delta                  DL   \n",
       "3                           ATL                Delta                  DL   \n",
       "4                           ATL                Delta                  DL   \n",
       "\n",
       "  segmentsEquipmentDescription segmentsDurationInSeconds segmentsDistance  \\\n",
       "0                  Airbus A321                      8940              947   \n",
       "1                  Airbus A321                      9000              947   \n",
       "2               Boeing 757-200                      9000              947   \n",
       "3                  Airbus A321                      9120              947   \n",
       "4                  Airbus A321                      9240              947   \n",
       "\n",
       "  segmentsCabinCode  \n",
       "0             coach  \n",
       "1             coach  \n",
       "2             coach  \n",
       "3             coach  \n",
       "4             coach  \n",
       "\n",
       "[5 rows x 27 columns]"
      ]
     },
     "execution_count": 34,
     "metadata": {},
     "output_type": "execute_result"
    }
   ],
   "source": [
    "flight_df_pd.head()"
   ]
  },
  {
   "cell_type": "code",
   "execution_count": 84,
   "id": "d229f006-23fa-4d20-acb3-27ea0371c360",
   "metadata": {},
   "outputs": [],
   "source": [
    "# print(flight_df_pd.head())  # View first few rows\n",
    "# print(flight_df_pd.info())  # Check data types\n",
    "# print(flight_df_pd.describe())"
   ]
  },
  {
   "cell_type": "markdown",
   "id": "b1915f5f-d0da-4469-ba8b-c3cef9df5085",
   "metadata": {},
   "source": [
    "1. examine the data and take out unrelated and repeating colums: \n",
    "legId, segmentsCabinCode\n",
    "2. drop repeated, unrelated, and price columns:\n",
    "3. translate int valued strings into numerical\n"
   ]
  },
  {
   "cell_type": "code",
   "execution_count": 78,
   "id": "6ec42710-b4a8-4b02-b8de-0a7afcd7f4d7",
   "metadata": {},
   "outputs": [
    {
     "name": "stdout",
     "output_type": "stream",
     "text": [
      "[ 947.  956. 1462.   nan 1192.  868.  228. 1307. 1675. 1207.]\n",
      "['947' '228||728' '541||406' '600||862' 'None||None' '762||185' '600||592'\n",
      " '541||327' '228' '762||545']\n"
     ]
    }
   ],
   "source": [
    "unique_airlines = flight_df_pd[\"segmentsAirlineName\"].unique()\n",
    "unique_total_distance = flight_df_pd[\"totalTravelDistance\"].unique()\n",
    "\n",
    "unique_distance = flight_df_pd[\"segmentsDistance\"].unique()\n",
    "\n",
    "prices = flight_df_pd[\"baseFare\"]\n",
    "print(unique_total_distance[:10])\n",
    "print(unique_distance[:10])"
   ]
  },
  {
   "cell_type": "markdown",
   "id": "c08f754f-cab0-4b84-b14c-4c36a74fd967",
   "metadata": {},
   "source": [
    "go back to pyspark and implement the data cleaning and preparation after examination"
   ]
  },
  {
   "cell_type": "markdown",
   "id": "149839a1-d14c-41b5-adef-ea9bad5662a6",
   "metadata": {},
   "source": [
    "<h1>clean irrelevant columns and create new columns</h1>"
   ]
  },
  {
   "cell_type": "code",
   "execution_count": 18,
   "id": "2982001a-af29-4129-850c-3da8ae551777",
   "metadata": {},
   "outputs": [
    {
     "name": "stdout",
     "output_type": "stream",
     "text": [
      "+----------+----------+---------------+------------------+--------------+--------------+------------+---------+--------+--------------+-------------------+-----------------------------+-----------------------------+-------------------+-------------------------+-----------------+\n",
      "|searchDate|flightDate|startingAirport|destinationAirport|travelDuration|isBasicEconomy|isRefundable|isNonStop|baseFare|seatsRemaining|totalTravelDistance|segmentsDepartureTimeRaw     |segmentsArrivalTimeRaw       |segmentsAirlineName|segmentsDurationInSeconds|segmentsCabinCode|\n",
      "+----------+----------+---------------+------------------+--------------+--------------+------------+---------+--------+--------------+-------------------+-----------------------------+-----------------------------+-------------------+-------------------------+-----------------+\n",
      "|2022-04-16|2022-04-17|ATL            |BOS               |PT2H29M       |false         |false       |true     |217.67  |9             |947                |2022-04-17T12:57:00.000-04:00|2022-04-17T15:26:00.000-04:00|Delta              |8940                     |coach            |\n",
      "|2022-04-16|2022-04-17|ATL            |BOS               |PT2H30M       |false         |false       |true     |217.67  |4             |947                |2022-04-17T06:30:00.000-04:00|2022-04-17T09:00:00.000-04:00|Delta              |9000                     |coach            |\n",
      "|2022-04-16|2022-04-17|ATL            |BOS               |PT2H30M       |false         |false       |true     |217.67  |9             |947                |2022-04-17T11:35:00.000-04:00|2022-04-17T14:05:00.000-04:00|Delta              |9000                     |coach            |\n",
      "+----------+----------+---------------+------------------+--------------+--------------+------------+---------+--------+--------------+-------------------+-----------------------------+-----------------------------+-------------------+-------------------------+-----------------+\n",
      "only showing top 3 rows\n",
      "\n"
     ]
    }
   ],
   "source": [
    "from pyspark.sql import functions as F\n",
    "\n",
    "columns_to_drop = [\n",
    "    'legId',\n",
    "    'totalFare',\n",
    "    'elapsedDays',\n",
    "    'fareBasisCode',\n",
    "    'segmentsAirlineCode',\n",
    "    'segmentsDepartureTimeEpochSeconds',  # Keep raw time format\n",
    "    'segmentsArrivalTimeEpochSeconds', # Keep raw time format\n",
    "    'segmentsArrivalAirportCode',\n",
    "    'segmentsDepartureAirportCode',\n",
    "    'segmentsEquipmentDescription',\n",
    "    'segmentsDistance'\n",
    "]\n",
    "\n",
    "flight_clean = flight_df.drop(*columns_to_drop)\n",
    "\n",
    "flight_clean.show(n=3, truncate=False)"
   ]
  },
  {
   "cell_type": "code",
   "execution_count": 20,
   "id": "d8fd739e-65c8-4338-89ed-acc2d09265f1",
   "metadata": {},
   "outputs": [
    {
     "name": "stdout",
     "output_type": "stream",
     "text": [
      "+----------+----------+---------------+------------------+--------------+--------------+------------+---------+--------+--------------+-------------------+-----------------------------+-----------------------------+-------------------+-------------------------+-------+-----------------+\n",
      "|searchDate|flightDate|startingAirport|destinationAirport|travelDuration|isBasicEconomy|isRefundable|isNonStop|baseFare|seatsRemaining|totalTravelDistance|segmentsDepartureTimeRaw     |segmentsArrivalTimeRaw       |segmentsAirlineName|segmentsDurationInSeconds|isCoach|days_until_flight|\n",
      "+----------+----------+---------------+------------------+--------------+--------------+------------+---------+--------+--------------+-------------------+-----------------------------+-----------------------------+-------------------+-------------------------+-------+-----------------+\n",
      "|2022-04-16|2022-04-17|ATL            |BOS               |PT2H29M       |false         |false       |true     |217.67  |9             |947                |2022-04-17T12:57:00.000-04:00|2022-04-17T15:26:00.000-04:00|Delta              |8940                     |1      |1                |\n",
      "+----------+----------+---------------+------------------+--------------+--------------+------------+---------+--------+--------------+-------------------+-----------------------------+-----------------------------+-------------------+-------------------------+-------+-----------------+\n",
      "only showing top 1 row\n",
      "\n"
     ]
    }
   ],
   "source": [
    "#create columns: isCoach, daysUntilFlight\n",
    "\n",
    "# Create isCoach column from segmentsCabinCode before dropping it\n",
    "flight_clean = flight_clean.withColumn(\n",
    "    'isCoach',\n",
    "    F.when(F.col('segmentsCabinCode').contains('coach'), 1).otherwise(0)\n",
    ")\n",
    "\n",
    "flight_clean = flight_clean.drop('segmentsCabinCode')\n",
    "\n",
    "# Process dates to create days_until_flight feature\n",
    "flight_clean = flight_clean.withColumn(\n",
    "    'days_until_flight',\n",
    "    F.datediff(F.to_date('flightDate'), F.to_date('searchDate'))\n",
    ")\n",
    "\n",
    "flight_clean.show(n=1, truncate=False)"
   ]
  },
  {
   "cell_type": "code",
   "execution_count": 22,
   "id": "64f01fc0-3068-46d3-9e50-87876e1762f3",
   "metadata": {},
   "outputs": [],
   "source": [
    "# pip install holidays # only need to run once"
   ]
  },
  {
   "cell_type": "code",
   "execution_count": 24,
   "id": "bf5b4684-f8a6-45a9-8c0c-3c598a6cee92",
   "metadata": {},
   "outputs": [
    {
     "name": "stdout",
     "output_type": "stream",
     "text": [
      "dict_keys([datetime.date(2024, 1, 1), datetime.date(2024, 5, 27), datetime.date(2024, 6, 19), datetime.date(2024, 7, 4), datetime.date(2024, 9, 2), datetime.date(2024, 11, 11), datetime.date(2024, 11, 28), datetime.date(2024, 12, 25), datetime.date(2024, 1, 15), datetime.date(2024, 2, 19), datetime.date(2024, 10, 14)])\n",
      "['2024-01-01', '2024-05-27', '2024-06-19', '2024-07-04', '2024-09-02', '2024-11-11', '2024-11-28', '2024-12-25', '2024-01-15', '2024-02-19', '2024-10-14']\n"
     ]
    }
   ],
   "source": [
    "# create column:isWeekendOrHoliday\n",
    "import holidays\n",
    "\n",
    "us_holidays = holidays.US(years=2024)  # Replace with your target year\n",
    "print(us_holidays.keys()) \n",
    "\n",
    "holiday_dates = [d.strftime(\"%Y-%m-%d\") for d in us_holidays]\n",
    "\n",
    "print(holiday_dates)\n",
    "    "
   ]
  },
  {
   "cell_type": "code",
   "execution_count": 26,
   "id": "4772e4aa-9bdd-479b-b6f8-5c69b2776679",
   "metadata": {},
   "outputs": [],
   "source": [
    "# Create isWeekend column (1 if weekend, 0 otherwise)\n",
    "flight_clean = flight_clean.withColumn(\n",
    "    \"isWeekend\",\n",
    "    F.when(F.dayofweek(\"flightDate\").isin([1, 7]), 1).otherwise(0)\n",
    ")\n",
    "\n",
    "# Create isHoliday column (1 if holiday, 0 otherwise)\n",
    "flight_clean = flight_clean.withColumn(\n",
    "    \"isHoliday\",\n",
    "    F.when(F.col(\"flightDate\").isin(holiday_dates), 1).otherwise(0)\n",
    ")\n"
   ]
  },
  {
   "cell_type": "code",
   "execution_count": 28,
   "id": "46f57da1-0717-46ea-a0c5-bf529384cd25",
   "metadata": {},
   "outputs": [
    {
     "name": "stderr",
     "output_type": "stream",
     "text": [
      "                                                                                \r"
     ]
    }
   ],
   "source": [
    "# Handle missing totalTravelDistance\n",
    "median_distance = flight_clean.approxQuantile('totalTravelDistance', [0.5], 0.01)[0]\n",
    "flight_clean = flight_clean.fillna(median_distance, subset=['totalTravelDistance'])\n"
   ]
  },
  {
   "cell_type": "code",
   "execution_count": 29,
   "id": "f4738405-3c3b-4ca7-a170-89ad50bac553",
   "metadata": {},
   "outputs": [],
   "source": [
    "# extract total travel time (in minutes) from travelDuration, then drop travelDuration\n",
    "\n",
    "flight_clean = flight_clean.withColumn(\n",
    "    \"hours\",\n",
    "    F.regexp_extract(F.col(\"travelDuration\"), r\"(\\d+)H\", 1).cast(\"int\")\n",
    ").withColumn(\n",
    "    \"minutes\",\n",
    "    F.regexp_extract(F.col(\"travelDuration\"), r\"(\\d+)M\", 1).cast(\"int\")\n",
    ")\n",
    "\n",
    "\n",
    "flight_clean = flight_clean.withColumn(\n",
    "    \"travelMinutes\",\n",
    "    F.col(\"hours\") * 60 + F.col(\"minutes\")\n",
    ").drop(\"hours\", \"minutes\")\n",
    "\n"
   ]
  },
  {
   "cell_type": "code",
   "execution_count": 30,
   "id": "cf02b43b-b79b-4da1-a9f3-17ad7c9e97dc",
   "metadata": {},
   "outputs": [],
   "source": [
    "flight_clean = flight_clean.drop('travelDuration')\n"
   ]
  },
  {
   "cell_type": "code",
   "execution_count": 34,
   "id": "c1c09345-1f21-4eba-bfc1-ff4bd52d2f6f",
   "metadata": {},
   "outputs": [
    {
     "name": "stdout",
     "output_type": "stream",
     "text": [
      "+----------+----------+---------------+------------------+--------------+------------+---------+--------+--------------+-------------------+------------------------+----------------------+-------------------+-------------------------+-------+-----------------+---------+---------+-------------+\n",
      "|searchDate|flightDate|startingAirport|destinationAirport|isBasicEconomy|isRefundable|isNonStop|baseFare|seatsRemaining|totalTravelDistance|segmentsDepartureTimeRaw|segmentsArrivalTimeRaw|segmentsAirlineName|segmentsDurationInSeconds|isCoach|days_until_flight|isWeekend|isHoliday|travelMinutes|\n",
      "+----------+----------+---------------+------------------+--------------+------------+---------+--------+--------------+-------------------+------------------------+----------------------+-------------------+-------------------------+-------+-----------------+---------+---------+-------------+\n",
      "|2022-04-16|2022-04-17|            ATL|               BOS|         false|       false|     true|  217.67|             9|                947|    2022-04-17T12:57:...|  2022-04-17T15:26:...|              Delta|                     8940|      1|                1|        1|        0|          149|\n",
      "+----------+----------+---------------+------------------+--------------+------------+---------+--------+--------------+-------------------+------------------------+----------------------+-------------------+-------------------------+-------+-----------------+---------+---------+-------------+\n",
      "only showing top 1 row\n",
      "\n"
     ]
    }
   ],
   "source": [
    "flight_clean.show(n=1)"
   ]
  },
  {
   "cell_type": "code",
   "execution_count": 36,
   "id": "fe247034-81a2-425e-bc01-cc6884108f8b",
   "metadata": {},
   "outputs": [],
   "source": [
    "#use segmentsDurationInSeconds to identify if this is a nonstop flight create a isNonstop column\n",
    "flight_clean = flight_clean.withColumn(\n",
    "    \"segmentsDurationArray\",\n",
    "    F.split(F.col(\"segmentsDurationInSeconds\"), r\"\\|\\|\")\n",
    ")\n",
    "flight_clean = flight_clean.withColumn(\n",
    "    \"isNonstop\",\n",
    "    F.when(F.size(\"segmentsDurationArray\") == 1, 1).otherwise(0)\n",
    ")\n",
    "\n",
    "flight_clean = flight_clean.drop(\"segmentsDurationArray\",\"segmentsDurationInSeconds\")"
   ]
  },
  {
   "cell_type": "code",
   "execution_count": 56,
   "id": "9d3dfc84-33e1-4b5f-8453-13d35313e3ac",
   "metadata": {},
   "outputs": [
    {
     "name": "stderr",
     "output_type": "stream",
     "text": [
      "[Stage 56:====================================================> (227 + 5) / 232]\r"
     ]
    },
    {
     "name": "stdout",
     "output_type": "stream",
     "text": [
      "+----------+----------+---------------+------------------+--------------+------------+---------+--------+--------------+-------------------+------------------------+----------------------+-------------------+-------+-----------------+---------+---------+-------------+\n",
      "|searchDate|flightDate|startingAirport|destinationAirport|isBasicEconomy|isRefundable|isNonstop|baseFare|seatsRemaining|totalTravelDistance|segmentsDepartureTimeRaw|segmentsArrivalTimeRaw|segmentsAirlineName|isCoach|days_until_flight|isWeekend|isHoliday|travelMinutes|\n",
      "+----------+----------+---------------+------------------+--------------+------------+---------+--------+--------------+-------------------+------------------------+----------------------+-------------------+-------+-----------------+---------+---------+-------------+\n",
      "|2022-04-16|2022-04-17|            ATL|               BOS|         false|       false|        1|  217.67|             9|                947|    2022-04-17T12:57:...|  2022-04-17T15:26:...|              Delta|      1|                1|        1|        0|          149|\n",
      "|2022-04-16|2022-04-17|            ATL|               BOS|         false|       false|        1|  217.67|             4|                947|    2022-04-17T06:30:...|  2022-04-17T09:00:...|              Delta|      1|                1|        1|        0|          150|\n",
      "|2022-04-16|2022-04-17|            ATL|               BOS|         false|       false|        1|  217.67|             9|                947|    2022-04-17T11:35:...|  2022-04-17T14:05:...|              Delta|      1|                1|        1|        0|          150|\n",
      "+----------+----------+---------------+------------------+--------------+------------+---------+--------+--------------+-------------------+------------------------+----------------------+-------------------+-------+-----------------+---------+---------+-------------+\n",
      "only showing top 3 rows\n",
      "\n"
     ]
    },
    {
     "name": "stderr",
     "output_type": "stream",
     "text": [
      "                                                                                \r"
     ]
    }
   ],
   "source": [
    "flight_clean.show(n=3)"
   ]
  },
  {
   "cell_type": "markdown",
   "id": "fafd5af4-d97a-46ed-a29a-4c4bf5286433",
   "metadata": {},
   "source": [
    "<h1>separate into train:70%, validation:15%, test:15%</h1>\n",
    "\n",
    "<h3>note: since this is time series data, split on searchDate</h3>"
   ]
  },
  {
   "cell_type": "code",
   "execution_count": 41,
   "id": "1aab15ba-6c46-4e62-b0a1-c0a67a5da6f6",
   "metadata": {},
   "outputs": [],
   "source": [
    "# Sort by searchDate (ascending)\n",
    "flight_clean = flight_clean.orderBy(\"searchDate\")"
   ]
  },
  {
   "cell_type": "code",
   "execution_count": 102,
   "id": "08102c16-6a2a-4cfc-839d-bba53f913077",
   "metadata": {},
   "outputs": [],
   "source": [
    "# selected_columns = [\n",
    "#     \"searchDate\",\n",
    "#     \"flightDate\",\n",
    "#     \"isBasicEconomy\",\n",
    "#     \"isRefundable\",\n",
    "#     \"isNonstop\",\n",
    "#     \"isCoach\",\n",
    "#     \"baseFare\"]\n",
    "    \n",
    "# flight_clean.select(selected_columns).show(n=10)\n"
   ]
  },
  {
   "cell_type": "code",
   "execution_count": 43,
   "id": "7fb38727-e2d1-45d8-93d2-ffe9744a8a81",
   "metadata": {},
   "outputs": [
    {
     "name": "stderr",
     "output_type": "stream",
     "text": [
      "                                                                                \r"
     ]
    }
   ],
   "source": [
    "total_rows = flight_clean.count()"
   ]
  },
  {
   "cell_type": "code",
   "execution_count": 132,
   "id": "d7dd4206-2acb-4a96-b20d-a57f3ee665e9",
   "metadata": {},
   "outputs": [
    {
     "name": "stdout",
     "output_type": "stream",
     "text": [
      "57497127 12320813 12320813\n",
      "True\n"
     ]
    }
   ],
   "source": [
    "train_size = int(total_rows * 0.7)\n",
    "remaining = total_rows - train_size\n",
    "val_size = remaining // 2\n",
    "test_size = remaining - val_size \n",
    "print(train_size, val_size, test_size)\n",
    "print(total_rows == train_size + val_size + test_size)"
   ]
  },
  {
   "cell_type": "code",
   "execution_count": 134,
   "id": "736338e6-5ab8-4d50-a093-d9c95d903ffa",
   "metadata": {},
   "outputs": [],
   "source": [
    "# Split the data\n",
    "train_df = flight_clean.limit(train_size)\n",
    "remaining_df = flight_clean.subtract(train_df)\n",
    "val_df = remaining_df.limit(val_size)\n",
    "test_df = remaining_df.subtract(val_df)\n"
   ]
  },
  {
   "cell_type": "code",
   "execution_count": 45,
   "id": "037a6715-a9db-4ebb-8492-b32ea78bacca",
   "metadata": {},
   "outputs": [
    {
     "name": "stderr",
     "output_type": "stream",
     "text": [
      "                                                                                \r"
     ]
    }
   ],
   "source": [
    "# Get sorted searchDates\n",
    "dates = flight_clean.select(\"searchDate\").distinct().orderBy(\"searchDate\")\n",
    "\n",
    "# Split dates into train/val/test fractions\n",
    "total_dates = dates.count()\n",
    "train_end_idx = int(total_dates * 0.7)\n",
    "val_end_idx = train_end_idx + int(total_dates * 0.15)\n",
    "\n",
    "train_dates = dates.limit(train_end_idx).collect()\n",
    "val_dates = dates.limit(val_end_idx).tail(val_end_idx - train_end_idx)\n",
    "test_dates = dates.tail(total_dates - val_end_idx)\n",
    "\n",
    "# Extract date strings\n",
    "train_cutoff = train_dates[-1][\"searchDate\"]\n",
    "val_cutoff = val_dates[-1][\"searchDate\"]"
   ]
  },
  {
   "cell_type": "code",
   "execution_count": 52,
   "id": "2c9249be-f209-4b43-959f-847b08ba8878",
   "metadata": {},
   "outputs": [
    {
     "name": "stdout",
     "output_type": "stream",
     "text": [
      "171 119 144\n"
     ]
    }
   ],
   "source": [
    "print(total_dates,train_end_idx,val_end_idx )"
   ]
  },
  {
   "cell_type": "code",
   "execution_count": 47,
   "id": "37134a3f-2fb9-4a31-b4e5-d9070e39f308",
   "metadata": {},
   "outputs": [],
   "source": [
    "train_df = flight_clean.filter(F.col(\"searchDate\") <= train_cutoff)\n",
    "val_df = flight_clean.filter((F.col(\"searchDate\") > train_cutoff) & (F.col(\"searchDate\") <= val_cutoff))\n",
    "test_df = flight_clean.filter(F.col(\"searchDate\") > val_cutoff)"
   ]
  },
  {
   "cell_type": "code",
   "execution_count": 54,
   "id": "0afe01d4-71a7-4d9e-a965-48d99d5bc927",
   "metadata": {},
   "outputs": [
    {
     "name": "stderr",
     "output_type": "stream",
     "text": [
      "                                                                                \r"
     ]
    }
   ],
   "source": [
    "train_count = train_df.count()\n",
    "val_count = val_df.count()\n",
    "test_count = test_df.count()\n"
   ]
  },
  {
   "cell_type": "code",
   "execution_count": 59,
   "id": "d9836d62-1b47-4f94-94ce-2672167fd4f9",
   "metadata": {},
   "outputs": [
    {
     "name": "stdout",
     "output_type": "stream",
     "text": [
      "Train: 57499920, Val: 11660046, Test: 12978787\n",
      "Total rows: 82138753\n"
     ]
    }
   ],
   "source": [
    "print(f\"Train: {train_count}, Val: {val_count}, Test: {test_count}\")\n",
    "print(f\"Total rows: {train_count + val_count + test_count}\")\n"
   ]
  },
  {
   "cell_type": "code",
   "execution_count": 67,
   "id": "b2b82f67-66ec-488a-a867-982779cfbf75",
   "metadata": {},
   "outputs": [
    {
     "name": "stderr",
     "output_type": "stream",
     "text": [
      "[Stage 67:====================================================> (226 + 6) / 232]\r"
     ]
    },
    {
     "name": "stdout",
     "output_type": "stream",
     "text": [
      "+----------+----------+---------------+------------------+--------------+------------+---------+--------+--------------+-------------------+------------------------+----------------------+--------------------+-------+-----------------+---------+---------+-------------+\n",
      "|searchDate|flightDate|startingAirport|destinationAirport|isBasicEconomy|isRefundable|isNonstop|baseFare|seatsRemaining|totalTravelDistance|segmentsDepartureTimeRaw|segmentsArrivalTimeRaw| segmentsAirlineName|isCoach|days_until_flight|isWeekend|isHoliday|travelMinutes|\n",
      "+----------+----------+---------------+------------------+--------------+------------+---------+--------+--------------+-------------------+------------------------+----------------------+--------------------+-------+-----------------+---------+---------+-------------+\n",
      "|2022-08-15|2022-08-16|            ATL|               BOS|         false|       false|        0|   104.0|             0|               1447|    2022-08-16T10:15:...|  2022-08-16T12:15:...|Spirit Airlines||...|      1|                1|        0|        0|          469|\n",
      "|2022-08-15|2022-09-19|            LAX|               ATL|         false|       false|        0|  463.26|             9|               2047|    2022-09-19T13:41:...|  2022-09-19T18:45:...|        Delta||Delta|      1|               35|        0|        0|          379|\n",
      "+----------+----------+---------------+------------------+--------------+------------+---------+--------+--------------+-------------------+------------------------+----------------------+--------------------+-------+-----------------+---------+---------+-------------+\n",
      "only showing top 2 rows\n",
      "\n"
     ]
    },
    {
     "name": "stderr",
     "output_type": "stream",
     "text": [
      "                                                                                \r"
     ]
    }
   ],
   "source": [
    "val_df.show(n=2)"
   ]
  },
  {
   "cell_type": "code",
   "execution_count": 61,
   "id": "39e7d8c4-ed88-4191-9b2a-9b5253c0604c",
   "metadata": {},
   "outputs": [
    {
     "name": "stderr",
     "output_type": "stream",
     "text": [
      "                                                                                \r"
     ]
    }
   ],
   "source": [
    "# Check temporal order\n",
    "train_max = train_df.agg(F.max(\"searchDate\")).first()[0]\n",
    "val_min = val_df.agg(F.min(\"searchDate\")).first()[0]\n",
    "test_min = test_df.agg(F.min(\"searchDate\")).first()[0]\n",
    "\n",
    "assert val_min > train_max, \"Validation data leaks into training period!\"\n",
    "assert test_min > val_min, \"Test data leaks into validation period!\""
   ]
  },
  {
   "cell_type": "markdown",
   "id": "a0909226-9b71-4f7f-95b7-66143fba03a2",
   "metadata": {},
   "source": [
    "<h3>save everything into parquet files before encoding</h3>"
   ]
  },
  {
   "cell_type": "code",
   "execution_count": 73,
   "id": "15e8af10-adde-4e6d-a1fa-d47858d6ddd8",
   "metadata": {},
   "outputs": [
    {
     "name": "stderr",
     "output_type": "stream",
     "text": [
      "25/03/23 21:16:33 WARN MemoryManager: Total allocation exceeds 95.00% (1,020,054,720 bytes) of heap memory\n",
      "Scaling row group sizes to 95.00% for 8 writers\n",
      "25/03/23 21:16:38 WARN MemoryManager: Total allocation exceeds 95.00% (1,020,054,720 bytes) of heap memory\n",
      "Scaling row group sizes to 95.00% for 8 writers\n",
      "25/03/23 21:16:43 WARN MemoryManager: Total allocation exceeds 95.00% (1,020,054,720 bytes) of heap memory\n",
      "Scaling row group sizes to 95.00% for 8 writers\n",
      "25/03/23 21:16:48 WARN MemoryManager: Total allocation exceeds 95.00% (1,020,054,720 bytes) of heap memory\n",
      "Scaling row group sizes to 95.00% for 8 writers\n",
      "25/03/23 21:16:57 WARN MemoryManager: Total allocation exceeds 95.00% (1,020,054,720 bytes) of heap memory\n",
      "Scaling row group sizes to 95.00% for 8 writers\n",
      "25/03/23 21:18:43 WARN MemoryManager: Total allocation exceeds 95.00% (1,020,054,720 bytes) of heap memory\n",
      "Scaling row group sizes to 95.00% for 8 writers\n",
      "25/03/23 21:20:26 WARN MemoryManager: Total allocation exceeds 95.00% (1,020,054,720 bytes) of heap memory\n",
      "Scaling row group sizes to 95.00% for 8 writers\n",
      "                                                                                \r"
     ]
    }
   ],
   "source": [
    "# train_df.write.parquet(\"train_preencode.parquet\")\n",
    "# val_df.write.parquet(\"val_preencode.parquet\")\n",
    "# test_df.write.parquet(\"test_preencode.parquet\")\n",
    "\n",
    "train_df.write.parquet(\"train_preencode.parquet\", mode=\"overwrite\", compression=\"snappy\")\n",
    "val_df.write.parquet(\"val_preencode.parquet\", mode=\"overwrite\", compression=\"snappy\")\n",
    "test_df.write.parquet(\"test_preencode.parquet\", mode=\"overwrite\", compression=\"snappy\")"
   ]
  },
  {
   "cell_type": "markdown",
   "id": "8c219619-9fc3-4de9-82da-441dda078add",
   "metadata": {},
   "source": [
    "<h1>encoding for training </h1>"
   ]
  },
  {
   "cell_type": "code",
   "execution_count": 63,
   "id": "b8a95928-dead-4223-96cf-dc38f217228f",
   "metadata": {},
   "outputs": [],
   "source": [
    "from pyspark.sql import functions as F\n",
    "from pyspark.ml.feature import StringIndexer, OneHotEncoder, MinMaxScaler, StandardScaler\n",
    "from pyspark.ml import Pipeline\n"
   ]
  },
  {
   "cell_type": "code",
   "execution_count": null,
   "id": "2346e123-b12d-4900-810b-2806b2e4e575",
   "metadata": {},
   "outputs": [],
   "source": [
    "\n",
    "# Binary Encoding for True/False columns\n",
    "binary_cols = [\"isBasicEconomy\", \"isRefundable\", \"isNonstop\", \"isCoach\", \"isWeekend\", \"isHoliday\"]\n",
    "for col in binary_cols:\n",
    "    train_df = train_df.withColumn(col, F.col(col).cast(\"int\"))\n",
    "    val_df = val_df.withColumn(col, F.col(col).cast(\"int\"))\n",
    "    test_df = test_df.withColumn(col, F.col(col).cast(\"int\"))\n"
   ]
  },
  {
   "cell_type": "code",
   "execution_count": null,
   "id": "12850af9-8213-450e-bd95-64af3c2dcb58",
   "metadata": {},
   "outputs": [],
   "source": [
    "# Multi-hot Encoding for segmentsAirlineName\n",
    "\n",
    "# One-hot Encoding for Airports\n",
    "\n",
    "# Binary Encoding for Boolean Columns\n",
    "\n",
    "# Numerical Feature Scaling\n",
    "\n",
    "# num_cols = [\"seatsRemaining\", \"totalTravelDistance\", \"travelMinutes\"]\n",
    "\n",
    "# \"baseFare\" should be taken out as y"
   ]
  },
  {
   "cell_type": "markdown",
   "id": "9b635c07-ca5d-43f3-b054-551523f591c5",
   "metadata": {},
   "source": [
    "<h2>work still in progress due to a mistake in spliting by search date instead of \"segmentsDepartureTimeRaw\" </h2>"
   ]
  },
  {
   "cell_type": "code",
   "execution_count": null,
   "id": "903a654f-5883-4c96-813f-2d79a9dc30ec",
   "metadata": {},
   "outputs": [],
   "source": []
  }
 ],
 "metadata": {
  "kernelspec": {
   "display_name": "base",
   "language": "python",
   "name": "python3"
  },
  "language_info": {
   "codemirror_mode": {
    "name": "ipython",
    "version": 3
   },
   "file_extension": ".py",
   "mimetype": "text/x-python",
   "name": "python",
   "nbconvert_exporter": "python",
   "pygments_lexer": "ipython3",
   "version": "3.12.4"
  }
 },
 "nbformat": 4,
 "nbformat_minor": 5
}
